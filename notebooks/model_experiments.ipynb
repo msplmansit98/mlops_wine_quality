{
 "cells": [
  {
   "cell_type": "code",
   "execution_count": 32,
   "id": "7d05816e-36ef-4a3e-93ee-a0ca46ef7240",
   "metadata": {},
   "outputs": [],
   "source": [
    "# load the train and test\n",
    "# train algo\n",
    "# save the metrices, params\n",
    "import os\n",
    "import warnings\n",
    "import sys\n",
    "import pandas as pd\n",
    "import numpy as np\n",
    "from sklearn.metrics import mean_squared_error, mean_absolute_error, r2_score\n",
    "from sklearn.linear_model import ElasticNet\n",
    "from src.get_data import read_params\n",
    "import argparse\n",
    "import joblib\n",
    "import json\n",
    "\n",
    "\n",
    "def eval_metrics(actual, pred):\n",
    "\n",
    "    rmse = np.sqrt(mean_squared_error(actual, pred))\n",
    "    mae = mean_absolute_error(actual, pred)\n",
    "    r2 = r2_score(actual, pred)\n",
    "    return rmse, mae, r2\n"
   ]
  },
  {
   "cell_type": "code",
   "execution_count": 40,
   "id": "79ae9773-6ac0-4bca-ae08-01ef71a7a032",
   "metadata": {},
   "outputs": [],
   "source": [
    "config = read_params(\"params.yaml\")\n",
    "\n",
    "test_data_path = config[\"split_data\"][\"test_path\"]\n",
    "train_data_path = config[\"split_data\"][\"train_path\"]\n",
    "random_state = config[\"base\"][\"random_state\"]\n",
    "model_dir = config[\"model_dir\"]\n",
    "\n",
    "alpha = config[\"estimators\"][\"ElasticNet\"][\"params\"][\"alpha\"]\n",
    "l1_ratio = config[\"estimators\"][\"ElasticNet\"][\"params\"][\"l1_ratio\"]\n",
    "\n",
    "target = [config[\"base\"][\"target_col\"]]\n",
    "target_col = config[\"base\"][\"target_col\"]\n",
    "\n",
    "train = pd.read_csv(train_data_path, sep=\",\")"
   ]
  },
  {
   "cell_type": "code",
   "execution_count": 41,
   "id": "bc5d221c-420f-40fd-bc99-c304b558ca67",
   "metadata": {},
   "outputs": [],
   "source": [
    "test = pd.read_csv(test_data_path, sep=\",\")"
   ]
  },
  {
   "cell_type": "code",
   "execution_count": 42,
   "id": "0338242e-cda6-4bf0-ab75-e457c6f29ae0",
   "metadata": {},
   "outputs": [
    {
     "data": {
      "text/plain": [
       "'volatile acidity'"
      ]
     },
     "execution_count": 42,
     "metadata": {},
     "output_type": "execute_result"
    }
   ],
   "source": [
    "train.columns[1]"
   ]
  },
  {
   "cell_type": "code",
   "execution_count": null,
   "id": "d6f9d3d7-772f-4d0c-9d17-21f033fa745e",
   "metadata": {},
   "outputs": [],
   "source": [
    "\n",
    "\n",
    "train_y = train[target_col]\n",
    "test_y = test[target_col]\n",
    "\n",
    "train_x = train.drop(target, axis=1)\n",
    "test_x = test.drop(target, axis=1)\n",
    "\n",
    "lr = ElasticNet(\n",
    "    alpha=alpha, \n",
    "    l1_ratio=l1_ratio, \n",
    "    random_state=random_state)\n",
    "lr.fit(train_x, train_y)\n",
    "\n",
    "predicted_qualities = lr.predict(test_x)\n",
    "\n",
    "(rmse, mae, r2) = eval_metrics(test_y, predicted_qualities)\n",
    "\n",
    "print(\"Elasticnet model (alpha=%f, l1_ratio=%f):\" % (alpha, l1_ratio))\n",
    "print(\"  RMSE: %s\" % rmse)\n",
    "print(\"  MAE: %s\" % mae)\n",
    "print(\"  R2: %s\" % r2)\n",
    "\n",
    "\n",
    "os.makedirs(model_dir, exist_ok=True)\n",
    "model_path = os.path.join(model_dir, \"model.joblib\")\n",
    "\n",
    "joblib.dump(lr, model_path)"
   ]
  }
 ],
 "metadata": {
  "kernelspec": {
   "display_name": "Python 3 (ipykernel)",
   "language": "python",
   "name": "python3"
  },
  "language_info": {
   "codemirror_mode": {
    "name": "ipython",
    "version": 3
   },
   "file_extension": ".py",
   "mimetype": "text/x-python",
   "name": "python",
   "nbconvert_exporter": "python",
   "pygments_lexer": "ipython3",
   "version": "3.10.4"
  }
 },
 "nbformat": 4,
 "nbformat_minor": 5
}
